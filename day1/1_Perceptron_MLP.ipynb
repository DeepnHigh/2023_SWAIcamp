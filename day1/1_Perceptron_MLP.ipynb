{
  "nbformat": 4,
  "nbformat_minor": 0,
  "metadata": {
    "colab": {
      "provenance": []
    },
    "kernelspec": {
      "name": "python3",
      "display_name": "Python 3"
    },
    "accelerator": "GPU"
  },
  "cells": [
    {
      "cell_type": "markdown",
      "source": [
        "# Perceptron"
      ],
      "metadata": {
        "id": "kqsS3ldO3G4y"
      }
    },
    {
      "cell_type": "code",
      "metadata": {
        "id": "SQyYzmEpPPzq",
        "colab": {
          "base_uri": "https://localhost:8080/"
        },
        "outputId": "d434b67e-d5c5-4872-eaa6-ecde0eb654c6"
      },
      "source": [
        "import torch\n",
        "import torch.nn as nn\n",
        "\n",
        "x_data = torch.FloatTensor([1.0, 2.0])\n",
        "print(x_data)\n",
        "\n",
        "linear = nn.Linear(2, 1)\n",
        "sigmoid = nn.Sigmoid()\n",
        "\n",
        "z = sigmoid(linear(x_data))\n",
        "print(z)"
      ],
      "execution_count": null,
      "outputs": [
        {
          "output_type": "stream",
          "name": "stdout",
          "text": [
            "tensor([1., 2.])\n",
            "tensor([0.3513], grad_fn=<SigmoidBackward0>)\n"
          ]
        }
      ]
    },
    {
      "cell_type": "markdown",
      "source": [
        "# Multi Layer Perceptron - MNIST"
      ],
      "metadata": {
        "id": "oM33-s0T3Ojq"
      }
    },
    {
      "cell_type": "code",
      "metadata": {
        "id": "OfAKx5Mt5IRL"
      },
      "source": [
        "import matplotlib.pyplot as plt\n",
        "import torchvision\n",
        "\n",
        "mnist = torchvision.datasets.MNIST(root='./data', train=True, download=True)"
      ],
      "execution_count": null,
      "outputs": []
    },
    {
      "cell_type": "code",
      "source": [
        "print(mnist.data.size())\n",
        "print(mnist.targets.size())\n",
        "\n",
        "print(mnist.targets[10])\n",
        "\n",
        "plt.imshow(\n",
        "    mnist.data[10],\n",
        "    cmap=\"Greys\",\n",
        "    # interpolation=\"nearest\",\n",
        "    )\n",
        "plt.show() "
      ],
      "metadata": {
        "id": "lQWkg9l63OSE",
        "colab": {
          "base_uri": "https://localhost:8080/",
          "height": 321
        },
        "outputId": "1281dc8e-ab4a-429b-bfb9-bed4fdec86c6"
      },
      "execution_count": null,
      "outputs": [
        {
          "output_type": "stream",
          "name": "stdout",
          "text": [
            "torch.Size([60000, 28, 28])\n",
            "torch.Size([60000])\n",
            "tensor(3)\n"
          ]
        },
        {
          "output_type": "display_data",
          "data": {
            "text/plain": [
              "<Figure size 432x288 with 1 Axes>"
            ],
            "image/png": "[encoded data removed]"
          },
          "metadata": {
            "needs_background": "light"
          }
        }
      ]
    },
    {
      "cell_type": "code",
      "source": [
        "# 관련 패키지 import \n",
        "import torch\n",
        "import torch.nn as nn\n",
        "import torch.nn.functional as F\n",
        "import torchvision\n",
        "import torchvision.transforms as transforms\n",
        "import matplotlib.pyplot as plt "
      ],
      "metadata": {
        "id": "DW8PT1vt3Ubg"
      },
      "execution_count": null,
      "outputs": []
    },
    {
      "cell_type": "code",
      "source": [
        "# Device configuration, gpu 사용 가능한 경우 device를 gpu로 설정하고 사용 불가능하면 cpu로 설정\n",
        "device = torch.device('cuda' if torch.cuda.is_available() else 'cpu')"
      ],
      "metadata": {
        "id": "0twUL8QW3Vbs"
      },
      "execution_count": null,
      "outputs": []
    },
    {
      "cell_type": "code",
      "source": [
        "# Hyper-parameters \n",
        "input_size = 784\n",
        "hidden_size = 500\n",
        "num_classes = 10\n",
        "num_epochs = 5\n",
        "batch_size = 100\n",
        "learning_rate = 0.0001"
      ],
      "metadata": {
        "id": "05u1Dym73Wpt"
      },
      "execution_count": null,
      "outputs": []
    },
    {
      "cell_type": "code",
      "source": [
        "# 파이토치에서 제공하는 MNIST dataset\n",
        "train_dataset = torchvision.datasets.MNIST(root='./data',train=True, \n",
        "                                           transform=transforms.ToTensor(), download=True)\n",
        "test_dataset = torchvision.datasets.MNIST(root='./data', train=False, \n",
        "                                          transform=transforms.ToTensor())"
      ],
      "metadata": {
        "id": "QAPcjTPd3Zjf"
      },
      "execution_count": null,
      "outputs": []
    },
    {
      "cell_type": "code",
      "source": [
        "# 배치 단위로 데이터를 처리해주는 Data loader\n",
        "train_loader = torch.utils.data.DataLoader(dataset=train_dataset,\n",
        "                                          batch_size=batch_size,\n",
        "                                          shuffle=True)\n",
        "test_loader = torch.utils.data.DataLoader(dataset=test_dataset,\n",
        "                                         batch_size=batch_size,\n",
        "                                         shuffle=False)"
      ],
      "metadata": {
        "id": "J90eFRRu3aDv"
      },
      "execution_count": null,
      "outputs": []
    },
    {
      "cell_type": "code",
      "source": [
        "class NeuralNet(nn.Module):\n",
        "  def __init__(self, input_size, hidden_size, num_classes):\n",
        "    super(NeuralNet, self).__init__()\n",
        "    self.fc1 = nn.Linear(input_size, hidden_size)\n",
        "    self.fc2 = nn.Linear(hidden_size, hidden_size)\n",
        "    self.fc3 = nn.Linear(hidden_size, num_classes)\n",
        "    \n",
        "  def forward(self, x):\n",
        "    out = F.relu(self.fc1(x))\n",
        "    out = F.relu(self.fc2(out))\n",
        "    out = self.fc3(out)\n",
        "    return out"
      ],
      "metadata": {
        "id": "7rAspkJL3ayD"
      },
      "execution_count": null,
      "outputs": []
    },
    {
      "cell_type": "code",
      "source": [
        "model = NeuralNet(input_size, hidden_size, num_classes).to(device) # 모델을 지정한 device로 올려줌 "
      ],
      "metadata": {
        "id": "cMWq1mms3bxL"
      },
      "execution_count": null,
      "outputs": []
    },
    {
      "cell_type": "code",
      "source": [
        "criterion = nn.CrossEntropyLoss()\n",
        "optimizer = torch.optim.Adam(model.parameters(), lr=learning_rate)\n",
        "# model.parameters -> 가중치 w들을 의미 "
      ],
      "metadata": {
        "id": "vRfvIIp63cte"
      },
      "execution_count": null,
      "outputs": []
    },
    {
      "cell_type": "code",
      "source": [
        "loss_arr = []\n",
        "total_step = len(train_loader)"
      ],
      "metadata": {
        "id": "i9GsuywZ3duz"
      },
      "execution_count": null,
      "outputs": []
    },
    {
      "cell_type": "code",
      "source": [
        "for epoch in range(num_epochs):\n",
        "  for i, (images, labels) in enumerate(train_loader):\n",
        "    # Move tensors to the configured device\n",
        "    images = images.reshape(-1, 28*28).to(device)\n",
        "    labels = labels.to(device)\n",
        "\t\t# Forward pass\n",
        "    outputs = model(images)\n",
        "    loss = criterion(outputs, labels)\n",
        "\t\t# Backward and optimize\n",
        "    optimizer.zero_grad() # iteration 마다 gradient를 0으로 초기화\n",
        "    loss.backward() # 가중치 w에 대해 loss를 미분\n",
        "    optimizer.step() # 가중치들을 업데이트\n",
        "\n",
        "    if (i+1) % 100 == 0:\n",
        "      loss_arr.append(loss.item())\n",
        "      print('Epoch [{}/{}], Step [{}/{}], Loss: {:.4f}'\n",
        "          .format(epoch+1, num_epochs, i+1, total_step, loss.item()))"
      ],
      "metadata": {
        "id": "oQK8VpBO3elW",
        "colab": {
          "base_uri": "https://localhost:8080/"
        },
        "outputId": "135b6e0c-e1ec-48c2-d58b-617d18a40ef6"
      },
      "execution_count": null,
      "outputs": [
        {
          "output_type": "stream",
          "name": "stdout",
          "text": [
            "Epoch [1/5], Step [100/600], Loss: 0.8860\n",
            "Epoch [1/5], Step [200/600], Loss: 0.7018\n",
            "Epoch [1/5], Step [300/600], Loss: 0.3099\n",
            "Epoch [1/5], Step [400/600], Loss: 0.2167\n",
            "Epoch [1/5], Step [500/600], Loss: 0.3293\n",
            "Epoch [1/5], Step [600/600], Loss: 0.2472\n",
            "Epoch [2/5], Step [100/600], Loss: 0.1669\n",
            "Epoch [2/5], Step [200/600], Loss: 0.2977\n",
            "Epoch [2/5], Step [300/600], Loss: 0.2194\n",
            "Epoch [2/5], Step [400/600], Loss: 0.2853\n",
            "Epoch [2/5], Step [500/600], Loss: 0.2349\n",
            "Epoch [2/5], Step [600/600], Loss: 0.1403\n",
            "Epoch [3/5], Step [100/600], Loss: 0.2442\n",
            "Epoch [3/5], Step [200/600], Loss: 0.1441\n",
            "Epoch [3/5], Step [300/600], Loss: 0.1216\n",
            "Epoch [3/5], Step [400/600], Loss: 0.1568\n",
            "Epoch [3/5], Step [500/600], Loss: 0.2715\n",
            "Epoch [3/5], Step [600/600], Loss: 0.1966\n",
            "Epoch [4/5], Step [100/600], Loss: 0.2642\n",
            "Epoch [4/5], Step [200/600], Loss: 0.1287\n",
            "Epoch [4/5], Step [300/600], Loss: 0.0663\n",
            "Epoch [4/5], Step [400/600], Loss: 0.1171\n",
            "Epoch [4/5], Step [500/600], Loss: 0.1817\n",
            "Epoch [4/5], Step [600/600], Loss: 0.1603\n",
            "Epoch [5/5], Step [100/600], Loss: 0.1661\n",
            "Epoch [5/5], Step [200/600], Loss: 0.1047\n",
            "Epoch [5/5], Step [300/600], Loss: 0.1154\n",
            "Epoch [5/5], Step [400/600], Loss: 0.1123\n",
            "Epoch [5/5], Step [500/600], Loss: 0.2193\n",
            "Epoch [5/5], Step [600/600], Loss: 0.1314\n"
          ]
        }
      ]
    },
    {
      "cell_type": "code",
      "source": [
        "from google.colab import drive\n",
        "drive.mount('/content/drive')"
      ],
      "metadata": {
        "id": "fYsoG6_O3ffc",
        "colab": {
          "base_uri": "https://localhost:8080/"
        },
        "outputId": "a7f2dd10-3681-42ce-9dd0-f805c1efe914"
      },
      "execution_count": null,
      "outputs": [
        {
          "output_type": "stream",
          "name": "stdout",
          "text": [
            "Drive already mounted at /content/drive; to attempt to forcibly remount, call drive.mount(\"/content/drive\", force_remount=True).\n"
          ]
        }
      ]
    },
    {
      "cell_type": "code",
      "source": [
        "# Test the model\n",
        "# In test phase, we don't need to compute gradients (for memory efficiency)\n",
        "with torch.no_grad():\n",
        "  correct = 0\n",
        "  total = 0\n",
        "  for images, labels in test_loader:\n",
        "    images = images.reshape(-1, 28*28).to(device) # 데이터를 장치에 올림\n",
        "    labels = labels.to(device)\n",
        "    outputs = model(images)\n",
        "  _, predicted = torch.max(outputs.data, 1)\n",
        "  total += labels.size(0)\n",
        "  correct += (predicted == labels).sum().item()\n",
        "\n",
        "print('Accuracy of the network on the 10000 test images: {} %'.format(100 * correct / total))"
      ],
      "metadata": {
        "id": "XpWkkSaG3gzp",
        "colab": {
          "base_uri": "https://localhost:8080/"
        },
        "outputId": "aa3cab74-bdc9-426b-e27d-29f9527f2813"
      },
      "execution_count": null,
      "outputs": [
        {
          "output_type": "stream",
          "name": "stdout",
          "text": [
            "Accuracy of the network on the 10000 test images: 96.0 %\n"
          ]
        }
      ]
    },
    {
      "cell_type": "code",
      "source": [
        "# Save the model checkpoint\n",
        "torch.save(model.state_dict(), '/content/drive/MyDrive/model.ckpt')\n",
        "plt.plot(loss_arr)\n",
        "plt.show()"
      ],
      "metadata": {
        "id": "BIjiCnxo3htX",
        "colab": {
          "base_uri": "https://localhost:8080/",
          "height": 265
        },
        "outputId": "7a5fc33d-39cc-44f0-9b5a-ff47f310bbe7"
      },
      "execution_count": null,
      "outputs": [
        {
          "output_type": "display_data",
          "data": {
            "text/plain": [
              "<Figure size 432x288 with 1 Axes>"
            ],
            "image/png": "[encoded data removed]"
          },
          "metadata": {
            "needs_background": "light"
          }
        }
      ]
    },
    {
      "cell_type": "code",
      "source": [],
      "metadata": {
        "id": "p2tSi3jZlgjU"
      },
      "execution_count": null,
      "outputs": []
    }
  ]
}